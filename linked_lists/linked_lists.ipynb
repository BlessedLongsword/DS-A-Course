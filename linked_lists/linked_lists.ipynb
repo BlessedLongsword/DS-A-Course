{
 "cells": [
  {
   "cell_type": "code",
   "execution_count": 1,
   "metadata": {},
   "outputs": [],
   "source": [
    "from linked_list import CircularLinkedList, LinkedList, DoublyLinkedList, CircularDoublyLinkedList, Node, DNode"
   ]
  },
  {
   "cell_type": "code",
   "execution_count": 2,
   "metadata": {},
   "outputs": [
    {
     "name": "stdout",
     "output_type": "stream",
     "text": [
      "None DNode(a) DNode(d)\n",
      "DoublyLinkedList('c', 'b', 'a', 'd', 'e') 5 DNode(c) DNode(d) DNode(b) DNode(e) DNode(d) None\n",
      "DNode(c) DNode(d) DNode(b)\n",
      "DNode(b) DNode(c) DNode(a)\n",
      "DNode(a) DNode(b) DNode(d)\n",
      "DNode(d) DNode(a) DNode(e)\n",
      "DNode(e) DNode(d) None\n"
     ]
    }
   ],
   "source": [
    "a = DoublyLinkedList(['a', 'b', 'c', 'd', 'e'])\n",
    "a.reverse()\n",
    "print(a, a.size, a.head, a.head.prev, a.head.next, a.tail, a.tail.prev, a.tail.next)\n",
    "for node in a:\n",
    "    print(node, node.prev, node.next)"
   ]
  },
  {
   "cell_type": "code",
   "execution_count": 2,
   "metadata": {},
   "outputs": [
    {
     "name": "stdout",
     "output_type": "stream",
     "text": [
      "None Node(a) None\n",
      "Node(a) Node(b) None\n",
      "Node(b) Node(c) Node(c)\n",
      "Node(c) Node(d) Node(d)\n",
      "Node(d) Node(e) Node(e)\n",
      "CircularLinkedList('a', 'd', 'c', 'b', 'e') 5 Node(a) Node(d) Node(e) Node(a)\n",
      "Node(a) Node(d)\n",
      "Node(d) Node(c)\n",
      "Node(c) Node(b)\n",
      "Node(b) Node(e)\n",
      "Node(e) Node(a)\n"
     ]
    }
   ],
   "source": [
    "a = CircularLinkedList(['a', 'b', 'c', 'd', 'e'])\n",
    "a.reverse(1, 4)\n",
    "print(a, a.size, a.head, a.head.next, a.tail, a.tail.next)\n",
    "for node in a:\n",
    "    print(node, node.next)"
   ]
  },
  {
   "cell_type": "code",
   "execution_count": null,
   "metadata": {},
   "outputs": [],
   "source": []
  }
 ],
 "metadata": {
  "kernelspec": {
   "display_name": "Python 3",
   "language": "python",
   "name": "python3"
  },
  "language_info": {
   "codemirror_mode": {
    "name": "ipython",
    "version": 3
   },
   "file_extension": ".py",
   "mimetype": "text/x-python",
   "name": "python",
   "nbconvert_exporter": "python",
   "pygments_lexer": "ipython3",
   "version": "3.12.3"
  }
 },
 "nbformat": 4,
 "nbformat_minor": 2
}
