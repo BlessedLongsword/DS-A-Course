{
 "cells": [
  {
   "cell_type": "markdown",
   "metadata": {},
   "source": [
    "# Lists"
   ]
  },
  {
   "cell_type": "markdown",
   "metadata": {},
   "source": [
    "Lists are used to store multiple elements. Lists are stored as contiguous memory elements. Lists allow indexing of their elements to retrieve the element at the index's position. In Python and most languages, lists are built-in and can be used to create other data structures."
   ]
  },
  {
   "cell_type": "markdown",
   "metadata": {},
   "source": [
    "## Initializing a list"
   ]
  },
  {
   "cell_type": "markdown",
   "metadata": {},
   "source": [
    "### Initialize empty list"
   ]
  },
  {
   "cell_type": "code",
   "execution_count": 2,
   "metadata": {},
   "outputs": [
    {
     "name": "stdout",
     "output_type": "stream",
     "text": [
      "a = []\n",
      "b = []\n"
     ]
    }
   ],
   "source": [
    "a = []\n",
    "b = list()\n",
    "\n",
    "print(f'a = {a}')\n",
    "print(f'b = {b}')"
   ]
  },
  {
   "cell_type": "markdown",
   "metadata": {},
   "source": [
    "### Initialize list with elements\n",
    "- Syntax: `var = [elements] | var = list(iterable)`"
   ]
  },
  {
   "cell_type": "code",
   "execution_count": 3,
   "metadata": {},
   "outputs": [
    {
     "name": "stdout",
     "output_type": "stream",
     "text": [
      "a = [0, 1, 2, 3, 4]\n",
      "b = [0, 1, 2, 3, 4]\n",
      "c = [0, 'str', True, []]\n"
     ]
    }
   ],
   "source": [
    "a = [0, 1, 2, 3, 4]\n",
    "b = list((0, 1, 2, 3, 4))\n",
    "c = [0, \"str\", True, list()]  # Lists can contain any type of data\n",
    "\n",
    "print(f'a = {a}')\n",
    "print(f'b = {b}')\n",
    "print(f'c = {c}')"
   ]
  },
  {
   "cell_type": "markdown",
   "metadata": {},
   "source": [
    "### List comprehensions\n",
    "- Syntax: `[f(element) for element in iterable (condition)]` where `f` is acting over the element"
   ]
  },
  {
   "cell_type": "code",
   "execution_count": 4,
   "metadata": {},
   "outputs": [
    {
     "name": "stdout",
     "output_type": "stream",
     "text": [
      "a = [0, 1, 2, 3, 4]\n"
     ]
    }
   ],
   "source": [
    "a = [i for i in range(5)]\n",
    "\n",
    "print(f'a = {a}')"
   ]
  },
  {
   "cell_type": "markdown",
   "metadata": {},
   "source": []
  },
  {
   "cell_type": "markdown",
   "metadata": {},
   "source": [
    "## Access elements in a list"
   ]
  },
  {
   "cell_type": "markdown",
   "metadata": {},
   "source": [
    "### Access element at a given index\n",
    "- Syntax: `list[i]`\n",
    "- Time complexity: **O(1)**"
   ]
  },
  {
   "cell_type": "code",
   "execution_count": 15,
   "metadata": {},
   "outputs": [
    {
     "name": "stdout",
     "output_type": "stream",
     "text": [
      "a[2] = c\n"
     ]
    }
   ],
   "source": [
    "a = ['a', 'b', 'c', 'd']\n",
    "print(f'a[2] = {a[2]}')"
   ]
  },
  {
   "cell_type": "markdown",
   "metadata": {},
   "source": [
    "### Access multiple elements using slices\n",
    "- Syntax: `list[start=0:stop=len(list)[:step=1]]` where `start` is **inclusive** and `stop` **exclusive**\n",
    "- Time complexity: **O(k)**"
   ]
  },
  {
   "cell_type": "code",
   "execution_count": 17,
   "metadata": {},
   "outputs": [
    {
     "name": "stdout",
     "output_type": "stream",
     "text": [
      "a[1:] = [1, 2, 3, 4]\n",
      "a[:3] = [0, 1, 2]\n",
      "a[1:3] = [1, 2]\n",
      "a[::2] = [0, 2, 4]\n",
      "a[::-1] = [4, 3, 2, 1, 0]\n"
     ]
    }
   ],
   "source": [
    "a = [0, 1, 2, 3, 4]\n",
    "\n",
    "print(f'a[1:] = {a[1:]}')\n",
    "print(f'a[:3] = {a[:3]}')\n",
    "print(f'a[1:3] = {a[1:3]}')\n",
    "print(f'a[::2] = {a[::2]}')\n",
    "print(f'a[::-1] = {a[::-1]}')"
   ]
  },
  {
   "cell_type": "markdown",
   "metadata": {},
   "source": [
    "## Adding elements to a list"
   ]
  },
  {
   "cell_type": "markdown",
   "metadata": {},
   "source": [
    "### Add an element to the end of the list\n",
    "- Syntax: `list.append(element) | list[len(list):] = [element]`\n",
    "- Time complexity: **O(1)**"
   ]
  },
  {
   "cell_type": "code",
   "execution_count": 18,
   "metadata": {},
   "outputs": [
    {
     "name": "stdout",
     "output_type": "stream",
     "text": [
      "a = [0, 1, 2, 3, 4, 5]\n",
      "b = [0, 1, 2, 3, 4, 5]\n"
     ]
    }
   ],
   "source": [
    "a = [0, 1, 2, 3, 4]\n",
    "b = [0, 1, 2, 3, 4]\n",
    "\n",
    "a.append(5)\n",
    "b[len(b):] = [5]\n",
    "\n",
    "print(f'a = {a}')\n",
    "print(f'b = {b}')"
   ]
  },
  {
   "cell_type": "markdown",
   "metadata": {},
   "source": [
    "### Add an element to a specific position in the list\n",
    "- Time complexity: **O(n)**"
   ]
  },
  {
   "cell_type": "code",
   "execution_count": 19,
   "metadata": {},
   "outputs": [
    {
     "name": "stdout",
     "output_type": "stream",
     "text": [
      "a = [-1, 0, 1, 2, 3, 4]\n"
     ]
    }
   ],
   "source": [
    "a = [0, 1, 2, 3, 4]\n",
    "\n",
    "a.insert(0, -1)\n",
    "\n",
    "print(f'a = {a}')"
   ]
  },
  {
   "cell_type": "markdown",
   "metadata": {},
   "source": [
    "### Add multiple elements to the end of the list\n",
    "- Syntax: `list.extend(iterable) | list[len(list):] = iterable`\n",
    "- Time complexity: **O(k)**"
   ]
  },
  {
   "cell_type": "code",
   "execution_count": 20,
   "metadata": {},
   "outputs": [
    {
     "name": "stdout",
     "output_type": "stream",
     "text": [
      "a = [0, 1, 2, 3, 4, 5, 6]\n",
      "b = [0, 1, 2, 3, 4, 5, 6, 7, 8, 9]\n"
     ]
    }
   ],
   "source": [
    "a = [0, 1, 2, 3, 4]\n",
    "b = [0, 1, 2, 3, 4]\n",
    "\n",
    "a.extend([5, 6])\n",
    "b[len(b):] = range(5, 10)\n",
    "\n",
    "print(f'a = {a}')\n",
    "print(f'b = {b}')"
   ]
  },
  {
   "cell_type": "markdown",
   "metadata": {},
   "source": [
    "### Add multiple elements to a specific position in the list\n",
    "- Syntax: `list[i:i] = iterable`"
   ]
  },
  {
   "cell_type": "code",
   "execution_count": 21,
   "metadata": {},
   "outputs": [
    {
     "name": "stdout",
     "output_type": "stream",
     "text": [
      "a = [-5, -4, -3, -2, -1, 0, 1, 2, 3, 4]\n"
     ]
    }
   ],
   "source": [
    "a = [0, 1, 2, 3, 4]\n",
    "b = [0, 1, 2, 3, 4]\n",
    "\n",
    "a[0:0] = range(-5, 0)\n",
    "\n",
    "print(f'a = {a}')"
   ]
  },
  {
   "cell_type": "markdown",
   "metadata": {},
   "source": [
    "The previous is a particular case of slice assignment which we will see next"
   ]
  },
  {
   "cell_type": "markdown",
   "metadata": {},
   "source": [
    "## Modifying elements of a list"
   ]
  },
  {
   "cell_type": "markdown",
   "metadata": {},
   "source": [
    "### Single Assignment\n",
    "- Syntax: `list[i] = var`\n",
    "- Time complexity: **O(1)**"
   ]
  },
  {
   "cell_type": "code",
   "execution_count": 22,
   "metadata": {},
   "outputs": [
    {
     "name": "stdout",
     "output_type": "stream",
     "text": [
      "a = [-1, 1, 2, 3, 4]\n"
     ]
    }
   ],
   "source": [
    "a = [0, 1, 2, 3, 4]\n",
    "\n",
    "a[0] = -1\n",
    "\n",
    "print(f'a = {a}')"
   ]
  },
  {
   "cell_type": "markdown",
   "metadata": {},
   "source": [
    "### Slice Assignment\n",
    "- Syntax: `list[slice] = iterable`\n",
    "- Time complexity: **O(n + k)**"
   ]
  },
  {
   "cell_type": "code",
   "execution_count": 23,
   "metadata": {},
   "outputs": [
    {
     "name": "stdout",
     "output_type": "stream",
     "text": [
      "a = [0, 5, 5, 3, 4]\n"
     ]
    }
   ],
   "source": [
    "a = [0, 1, 2, 3, 4]\n",
    "\n",
    "a[1:3] = [5, 5]\n",
    "\n",
    "print(f'a = {a}')"
   ]
  },
  {
   "cell_type": "markdown",
   "metadata": {},
   "source": [
    "## Removing elements from a list"
   ]
  },
  {
   "cell_type": "markdown",
   "metadata": {},
   "source": [
    "### Removing one element by index\n",
    "- Syntax: list.pop(i=len(list))\n",
    "- Time complexity: **O(n)**\n",
    "\n",
    "Pop also retrieves the removed element"
   ]
  },
  {
   "cell_type": "code",
   "execution_count": 25,
   "metadata": {},
   "outputs": [
    {
     "name": "stdout",
     "output_type": "stream",
     "text": [
      "a = [1, 2, 3, 4]\n",
      "a = [2, 3, 4]\n",
      "b = 1\n"
     ]
    }
   ],
   "source": [
    "a = [0, 1, 2, 3, 4]\n",
    "\n",
    "a.pop(0)\n",
    "\n",
    "print(f'a = {a}')\n",
    "\n",
    "b = a.pop(0)\n",
    "\n",
    "print(f'a = {a}')\n",
    "print(f'b = {b}')"
   ]
  },
  {
   "cell_type": "markdown",
   "metadata": {},
   "source": [
    "### Removing multiple elements\n",
    "- Syntax: `del list[slice]`\n",
    "- Time complexity: **O(n)**"
   ]
  },
  {
   "cell_type": "code",
   "execution_count": 26,
   "metadata": {},
   "outputs": [
    {
     "name": "stdout",
     "output_type": "stream",
     "text": [
      "a = [2, 3, 4]\n",
      "b = []\n",
      "c = []\n"
     ]
    }
   ],
   "source": [
    "a = [0, 1, 2, 3, 4]\n",
    "b = [0, 1, 2, 3, 4]\n",
    "c = [0, 1, 2, 3, 4]\n",
    "\n",
    "del a[0:2]\n",
    "del b[:]\n",
    "c.clear()\n",
    "\n",
    "print(f'a = {a}')\n",
    "print(f'b = {b}')\n",
    "print(f'c = {c}')"
   ]
  },
  {
   "cell_type": "markdown",
   "metadata": {},
   "source": [
    "### Removing one element\n",
    "- Syntax: list.remove(x)\n",
    "- Time complexity: **O(n)**\n",
    "\n",
    "Removes the first occurrence of x in the list"
   ]
  },
  {
   "cell_type": "code",
   "execution_count": 28,
   "metadata": {},
   "outputs": [
    {
     "name": "stdout",
     "output_type": "stream",
     "text": [
      "a = ['a', 'c']\n"
     ]
    }
   ],
   "source": [
    "a = ['a', 'b', 'c']\n",
    "\n",
    "a.remove('b')\n",
    "\n",
    "print(f'a = {a}')"
   ]
  },
  {
   "cell_type": "markdown",
   "metadata": {},
   "source": [
    "## Algorithm: Linear search"
   ]
  },
  {
   "cell_type": "markdown",
   "metadata": {},
   "source": [
    "Given a list and an element to search within it, the linear search will yield the index of the first occurrence of that element in the given list.\n",
    "- Time complexity: **O(n)**\n",
    "- Space complexity: **O(1)**"
   ]
  },
  {
   "cell_type": "code",
   "execution_count": 29,
   "metadata": {},
   "outputs": [],
   "source": [
    "def linear_search(e, array):\n",
    "    for i in range(len(array)):\n",
    "        if array[i] == e:\n",
    "            return i\n",
    "    return None"
   ]
  },
  {
   "cell_type": "code",
   "execution_count": 31,
   "metadata": {},
   "outputs": [
    {
     "name": "stdout",
     "output_type": "stream",
     "text": [
      "Index of 1 in a: 1\n",
      "Index of d in b: 3\n"
     ]
    }
   ],
   "source": [
    "a = [0, 1, 2, 3, 4, 5]\n",
    "b = ['a', 'b', 'c', 'd']\n",
    "\n",
    "print(f'Index of 1 in a: {linear_search(1, a)}')\n",
    "print(f'Index of d in b: {linear_search('d', b)}')"
   ]
  },
  {
   "cell_type": "markdown",
   "metadata": {},
   "source": [
    "### Variation: Restricted Linear Search"
   ]
  },
  {
   "cell_type": "markdown",
   "metadata": {},
   "source": [
    "This variation searches through a slice of the list. This variation is built-in python in the function `list.index(x[, start[, end]])`.\n",
    "Below is an implementation of this variation and comparison with the built-in function."
   ]
  },
  {
   "cell_type": "code",
   "execution_count": 32,
   "metadata": {},
   "outputs": [],
   "source": [
    "def restricted_linear_search(e, array, start=0, end=None):\n",
    "    for i in range(start, end if end else len(array)):\n",
    "        if array[i] == e:\n",
    "            return i\n",
    "    return None"
   ]
  },
  {
   "cell_type": "code",
   "execution_count": 34,
   "metadata": {},
   "outputs": [
    {
     "name": "stdout",
     "output_type": "stream",
     "text": [
      "4\n",
      "6\n"
     ]
    }
   ],
   "source": [
    "a = [0, 1, 2, 3, 1, 2, 0]\n",
    "\n",
    "print(restricted_linear_search(1, a, 2))\n",
    "print(a.index(0, 1))"
   ]
  },
  {
   "cell_type": "markdown",
   "metadata": {},
   "source": [
    "### Variation: Count occurrences of element in list"
   ]
  },
  {
   "cell_type": "markdown",
   "metadata": {},
   "source": [
    "This vairation retrieves the number of occurrences of the element to be searched. This variation is built-in python in the function `list.count(x)`."
   ]
  },
  {
   "cell_type": "code",
   "execution_count": 36,
   "metadata": {},
   "outputs": [],
   "source": [
    "def count_occurrences(e, array):\n",
    "    counter = 0\n",
    "    for elem in array:\n",
    "        counter += elem == e\n",
    "    return counter"
   ]
  },
  {
   "cell_type": "code",
   "execution_count": 37,
   "metadata": {},
   "outputs": [
    {
     "name": "stdout",
     "output_type": "stream",
     "text": [
      "Occurrences of 0: 2\n",
      "Occurrences of 3: 1\n"
     ]
    }
   ],
   "source": [
    "a = [0, 1, 2, 3, 1, 2, 0]\n",
    "\n",
    "print(f'Occurrences of 0: {count_occurrences(0, a)}')\n",
    "print(f'Occurrences of 3: {a.count(3)}')"
   ]
  },
  {
   "cell_type": "markdown",
   "metadata": {},
   "source": [
    "## Algorithm: List reversal\n"
   ]
  },
  {
   "cell_type": "markdown",
   "metadata": {},
   "source": [
    "Takes a list and transforms it so that the first element becomes the last, the second becomes second to last, etc.\n",
    "\n",
    "- Time complexity: **O(n)**\n",
    "- Space complexity: **O(1)**\n",
    "\n",
    "This algorithm is built-in python with the `list.reverse()`. This is done in place. Slices can also be used `list[::-1]` but this is only for assigning or reading."
   ]
  },
  {
   "cell_type": "code",
   "execution_count": 40,
   "metadata": {},
   "outputs": [],
   "source": [
    "def reverse(array):\n",
    "    n = len(array)\n",
    "    for i in range(int(len(array) / 2)):\n",
    "        array[i], array[n - i - 1] = array[n - i - 1], array[i]"
   ]
  },
  {
   "cell_type": "code",
   "execution_count": 41,
   "metadata": {},
   "outputs": [
    {
     "name": "stdout",
     "output_type": "stream",
     "text": [
      "a = [5, 4, 3, 2, 1, 0]\n",
      "b = [5, 4, 3, 2, 1, 0]\n"
     ]
    }
   ],
   "source": [
    "a = [0, 1, 2, 3, 4, 5]\n",
    "b = [0, 1, 2, 3, 4, 5]\n",
    "\n",
    "reverse(a)\n",
    "b.reverse()\n",
    "\n",
    "print(f'a = {a}')\n",
    "print(f'b = {b}')"
   ]
  },
  {
   "cell_type": "markdown",
   "metadata": {},
   "source": [
    "[Python list reference](https://docs.python.org/3/library/stdtypes.html#sequence-types-list-tuple-range)"
   ]
  },
  {
   "cell_type": "markdown",
   "metadata": {},
   "source": [
    "## Algorithm: Bubble Sort"
   ]
  },
  {
   "cell_type": "markdown",
   "metadata": {},
   "source": [
    "Sorts the elements in a list in ascending order\n",
    "- Time complexity: **O($n^2$)**\n",
    "- Space complexity: **O(1)**"
   ]
  },
  {
   "cell_type": "code",
   "execution_count": 42,
   "metadata": {},
   "outputs": [],
   "source": [
    "def bubble_sort(array):\n",
    "    n = len(array)\n",
    "    for i in range(n):\n",
    "        for j in range(n - 1):\n",
    "            if array[j] > array[j + 1]:\n",
    "                array[j], array[j + 1] = array[j + 1], array[j]"
   ]
  },
  {
   "cell_type": "code",
   "execution_count": 43,
   "metadata": {},
   "outputs": [
    {
     "name": "stdout",
     "output_type": "stream",
     "text": [
      "a = [2, 5, 7, 7, 8, 32, 65, 912]\n"
     ]
    }
   ],
   "source": [
    "a = [5, 7, 8, 2, 32, 65, 912, 7]\n",
    "\n",
    "bubble_sort(a)\n",
    "\n",
    "print(f'a = {a}')"
   ]
  },
  {
   "cell_type": "markdown",
   "metadata": {},
   "source": [
    "## Algorithm: Selection Sort"
   ]
  },
  {
   "cell_type": "markdown",
   "metadata": {},
   "source": [
    "Sorts the elements in a list in ascending order\n",
    "- Time complexity: **O($n^2$)**\n",
    "- Space complexity: **O(1)**"
   ]
  },
  {
   "cell_type": "code",
   "execution_count": 65,
   "metadata": {},
   "outputs": [],
   "source": [
    "def selection_sort(array):\n",
    "    n = len(array)\n",
    "    for i in range(n):\n",
    "        cmin = float('inf')\n",
    "        for j in range(i, n):\n",
    "            cmin = min(cmin, array[j])\n",
    "        min_index = array.index(cmin, i)\n",
    "        array.insert(i, array.pop(min_index))"
   ]
  },
  {
   "cell_type": "code",
   "execution_count": 66,
   "metadata": {},
   "outputs": [
    {
     "name": "stdout",
     "output_type": "stream",
     "text": [
      "a = [2, 5, 7, 7, 8, 32, 65, 912]\n"
     ]
    }
   ],
   "source": [
    "a = [5, 7, 8, 2, 32, 65, 912, 7]\n",
    "\n",
    "selection_sort(a)\n",
    "\n",
    "print(f'a = {a}')"
   ]
  },
  {
   "cell_type": "markdown",
   "metadata": {},
   "source": [
    "## Algorithm: Insertion Sort"
   ]
  },
  {
   "cell_type": "markdown",
   "metadata": {},
   "source": [
    "Sorts the elements in a list in ascending order\n",
    "- Time complexity: **O($n^2$)**\n",
    "- Space complexity: **O(1)**"
   ]
  },
  {
   "cell_type": "code",
   "execution_count": 67,
   "metadata": {},
   "outputs": [],
   "source": [
    "def insertion_sort(array):\n",
    "    n = len(array)\n",
    "    for i in range(n):\n",
    "        for j in range(0, i):\n",
    "            if array[i] < array[j]:\n",
    "                array.insert(j, array.pop(i))"
   ]
  },
  {
   "cell_type": "code",
   "execution_count": 68,
   "metadata": {},
   "outputs": [
    {
     "name": "stdout",
     "output_type": "stream",
     "text": [
      "a = [2, 5, 7, 7, 8, 32, 65, 912]\n"
     ]
    }
   ],
   "source": [
    "a = [5, 7, 8, 2, 32, 65, 912, 7]\n",
    "\n",
    "selection_sort(a)\n",
    "\n",
    "print(f'a = {a}')"
   ]
  },
  {
   "cell_type": "code",
   "execution_count": null,
   "metadata": {},
   "outputs": [],
   "source": []
  }
 ],
 "metadata": {
  "kernelspec": {
   "display_name": "Python 3",
   "language": "python",
   "name": "python3"
  },
  "language_info": {
   "codemirror_mode": {
    "name": "ipython",
    "version": 3
   },
   "file_extension": ".py",
   "mimetype": "text/x-python",
   "name": "python",
   "nbconvert_exporter": "python",
   "pygments_lexer": "ipython3",
   "version": "3.12.2"
  }
 },
 "nbformat": 4,
 "nbformat_minor": 2
}
